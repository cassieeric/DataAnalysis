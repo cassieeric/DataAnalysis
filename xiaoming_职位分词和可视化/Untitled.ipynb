{
 "cells": [
  {
   "cell_type": "markdown",
   "metadata": {},
   "source": [
    "## 一、导入数据\n",
    "### 1.1"
   ]
  },
  {
   "cell_type": "code",
   "execution_count": 1,
   "metadata": {},
   "outputs": [
    {
     "name": "stdout",
     "output_type": "stream",
     "text": [
      "                                        Job_Description  PositionId\n",
      "0     职位描述 1、基于Android平台进行手机软件的设计、开发、需求分析等； 任职要求： 1、...           1\n",
      "1      岗位描述1、前端框架的设计与实现 2. 各业务模块前端代码开发 3. 平台易用性与用户体验...           2\n",
      "2     岗位职责： 1、负责日常款项支付，境内外网银转帐汇款，处理日常往来账核对； 2、负责公司及分...           3\n",
      "3     \\n 岗位职责： \\n 1、负责日常款项支付，境内外网银转帐汇款，处理日常往来账核对； \\n...           3\n",
      "4      岗位职责： 1、无线通信系统性能测试与分析，包括常见标准无线通信系统与私有协议标准系统; ...           4\n",
      "...                                                 ...         ...\n",
      "9339  \\n 1、熟悉TCP/IP、HTTP等协议， 对网络编程有较多认识并有相关性能优化经验； 2...        6169\n",
      "9340  岗位职责： 1、负责面向公众用户市场的wifi应用产品的需求调研、规划、设计和全生命周期管理...        6170\n",
      "9341  \\n 岗位职责： \\n 1、负责面向公众用户市场的wifi应用产品的需求调研、规划、设计和全...        6170\n",
      "9342  岗位职责： 1、 负责公司广告产品线的产品规划、竞品分析及设计工作； 2、 负责与销售、市场...        6171\n",
      "9343  \\n 岗位职责： \\n 负责公司wifi行业广告及大数据产品的规划、设计，负责相关技术平台架...        6171\n",
      "\n",
      "[9344 rows x 2 columns]\n",
      "==============================分隔线============================== 9344\n"
     ]
    }
   ],
   "source": [
    "import pandas as pd \n",
    "df = pd.read_csv('职位描述-副本.csv',encoding='gbk')\n",
    "print(df)\n",
    "print('==============================分隔线==============================',len(df))"
   ]
  },
  {
   "cell_type": "markdown",
   "metadata": {},
   "source": [
    "## 二.对数据进行简单的统计分析\n",
    "### 2.1 查看维度，类型，描述等"
   ]
  },
  {
   "cell_type": "code",
   "execution_count": 2,
   "metadata": {},
   "outputs": [
    {
     "name": "stdout",
     "output_type": "stream",
     "text": [
      "shape: (9344,) len: 9344\n",
      "去重后的评论数据维度： (6171,) len: 6171\n"
     ]
    }
   ],
   "source": [
    "# 提取描述信息\n",
    "comment = df.PositionId\n",
    "print(\"shape:\",comment.shape,\"len:\",len(comment))  \n",
    "# 去重\n",
    "comment1 = comment.drop_duplicates()  \n",
    "print(\"去重后的评论数据维度：\",comment1.shape,\"len:\",len(comment1)) "
   ]
  },
  {
   "cell_type": "code",
   "execution_count": 3,
   "metadata": {},
   "outputs": [
    {
     "name": "stdout",
     "output_type": "stream",
     "text": [
      "                                        Job_Description  PositionId\n",
      "0     职位描述 1、基于Android平台进行手机软件的设计、开发、需求分析等； 任职要求： 1、...           1\n",
      "1      岗位描述1、前端框架的设计与实现 2. 各业务模块前端代码开发 3. 平台易用性与用户体验...           2\n",
      "2     岗位职责： 1、负责日常款项支付，境内外网银转帐汇款，处理日常往来账核对； 2、负责公司及分...           3\n",
      "4      岗位职责： 1、无线通信系统性能测试与分析，包括常见标准无线通信系统与私有协议标准系统; ...           4\n",
      "6     如果你是天生的冠军，那么这个职位正是为你而设。不论起点高与低，只要目标一致，你就是NO1。校...           5\n",
      "...                                                 ...         ...\n",
      "9335  职位描述 1.连锁餐饮/消费领域从业经验优先。组织制定、完善财务方面的管理制度及有关规定，并...        6167\n",
      "9337  【 岗位职责】 1、负责公司软件产品的架构设计、代码编写和规范制订的工作； 2、负责软件研发...        6168\n",
      "9338  1、熟悉TCP/IP、HTTP等协议， 对网络编程有较多认识并有相关性能优化经验； 2、有P...        6169\n",
      "9340  岗位职责： 1、负责面向公众用户市场的wifi应用产品的需求调研、规划、设计和全生命周期管理...        6170\n",
      "9342  岗位职责： 1、 负责公司广告产品线的产品规划、竞品分析及设计工作； 2、 负责与销售、市场...        6171\n",
      "\n",
      "[6171 rows x 2 columns]\n"
     ]
    }
   ],
   "source": [
    "df1 = df.drop_duplicates(['PositionId'])   \n",
    "print(df1)"
   ]
  },
  {
   "cell_type": "code",
   "execution_count": 4,
   "metadata": {},
   "outputs": [
    {
     "data": {
      "text/plain": [
       "Job_Description    object\n",
       "PositionId          int64\n",
       "dtype: object"
      ]
     },
     "execution_count": 4,
     "metadata": {},
     "output_type": "execute_result"
    }
   ],
   "source": [
    "df1.dtypes   #查看表格数据类型"
   ]
  },
  {
   "cell_type": "code",
   "execution_count": 5,
   "metadata": {},
   "outputs": [
    {
     "data": {
      "text/html": [
       "<div>\n",
       "<style scoped>\n",
       "    .dataframe tbody tr th:only-of-type {\n",
       "        vertical-align: middle;\n",
       "    }\n",
       "\n",
       "    .dataframe tbody tr th {\n",
       "        vertical-align: top;\n",
       "    }\n",
       "\n",
       "    .dataframe thead th {\n",
       "        text-align: right;\n",
       "    }\n",
       "</style>\n",
       "<table border=\"1\" class=\"dataframe\">\n",
       "  <thead>\n",
       "    <tr style=\"text-align: right;\">\n",
       "      <th></th>\n",
       "      <th>PositionId</th>\n",
       "    </tr>\n",
       "  </thead>\n",
       "  <tbody>\n",
       "    <tr>\n",
       "      <th>count</th>\n",
       "      <td>6171.000000</td>\n",
       "    </tr>\n",
       "    <tr>\n",
       "      <th>mean</th>\n",
       "      <td>3086.000000</td>\n",
       "    </tr>\n",
       "    <tr>\n",
       "      <th>std</th>\n",
       "      <td>1781.558587</td>\n",
       "    </tr>\n",
       "    <tr>\n",
       "      <th>min</th>\n",
       "      <td>1.000000</td>\n",
       "    </tr>\n",
       "    <tr>\n",
       "      <th>25%</th>\n",
       "      <td>1543.500000</td>\n",
       "    </tr>\n",
       "    <tr>\n",
       "      <th>50%</th>\n",
       "      <td>3086.000000</td>\n",
       "    </tr>\n",
       "    <tr>\n",
       "      <th>75%</th>\n",
       "      <td>4628.500000</td>\n",
       "    </tr>\n",
       "    <tr>\n",
       "      <th>max</th>\n",
       "      <td>6171.000000</td>\n",
       "    </tr>\n",
       "  </tbody>\n",
       "</table>\n",
       "</div>"
      ],
      "text/plain": [
       "        PositionId\n",
       "count  6171.000000\n",
       "mean   3086.000000\n",
       "std    1781.558587\n",
       "min       1.000000\n",
       "25%    1543.500000\n",
       "50%    3086.000000\n",
       "75%    4628.500000\n",
       "max    6171.000000"
      ]
     },
     "execution_count": 5,
     "metadata": {},
     "output_type": "execute_result"
    }
   ],
   "source": [
    "df1.describe()    #查看表格数据描述"
   ]
  },
  {
   "cell_type": "code",
   "execution_count": 6,
   "metadata": {},
   "outputs": [
    {
     "name": "stdout",
     "output_type": "stream",
     "text": [
      "未去重前的缺失数据 Job_Description    241\n",
      "PositionId           0\n",
      "dtype: int64\n",
      "去重后的缺失数据 Job_Description    236\n",
      "PositionId           0\n",
      "dtype: int64\n"
     ]
    }
   ],
   "source": [
    "print(\"未去重前的缺失数据\",df.isnull().sum())     #查看是否有缺失数据\n",
    "print(\"去重后的缺失数据\",df1.isnull().sum()) "
   ]
  },
  {
   "cell_type": "code",
   "execution_count": null,
   "metadata": {},
   "outputs": [],
   "source": []
  },
  {
   "cell_type": "markdown",
   "metadata": {},
   "source": [
    "### 2.2 因为工作描述中含有\\n换行符等其他无效信息，所以将其去除"
   ]
  },
  {
   "cell_type": "code",
   "execution_count": 7,
   "metadata": {},
   "outputs": [
    {
     "name": "stderr",
     "output_type": "stream",
     "text": [
      "<ipython-input-7-3c1e427de8e7>:8: SettingWithCopyWarning: \n",
      "A value is trying to be set on a copy of a slice from a DataFrame.\n",
      "Try using .loc[row_indexer,col_indexer] = value instead\n",
      "\n",
      "See the caveats in the documentation: https://pandas.pydata.org/pandas-docs/stable/user_guide/indexing.html#returning-a-view-versus-a-copy\n",
      "  df1[\"Job_Description\"] = df1[\"Job_Description\"].astype(str).apply(Delete_CertainSign)\n"
     ]
    },
    {
     "data": {
      "text/html": [
       "<div>\n",
       "<style scoped>\n",
       "    .dataframe tbody tr th:only-of-type {\n",
       "        vertical-align: middle;\n",
       "    }\n",
       "\n",
       "    .dataframe tbody tr th {\n",
       "        vertical-align: top;\n",
       "    }\n",
       "\n",
       "    .dataframe thead th {\n",
       "        text-align: right;\n",
       "    }\n",
       "</style>\n",
       "<table border=\"1\" class=\"dataframe\">\n",
       "  <thead>\n",
       "    <tr style=\"text-align: right;\">\n",
       "      <th></th>\n",
       "      <th>Job_Description</th>\n",
       "      <th>PositionId</th>\n",
       "    </tr>\n",
       "  </thead>\n",
       "  <tbody>\n",
       "    <tr>\n",
       "      <th>0</th>\n",
       "      <td>1基于Android平台进行手机软件的设计开发需求分析等；任职要求1熟练掌握java技术，熟...</td>\n",
       "      <td>1</td>\n",
       "    </tr>\n",
       "    <tr>\n",
       "      <th>1</th>\n",
       "      <td>岗位描述1前端框架的设计与实现2.各业务模块前端代码开发3.平台易用性与用户体验的持续改进4...</td>\n",
       "      <td>2</td>\n",
       "    </tr>\n",
       "    <tr>\n",
       "      <th>2</th>\n",
       "      <td>1负责日常款项支付，境内外网银转帐汇款，处理日常往来账核对；2负责公司及分公司费用报销的核查...</td>\n",
       "      <td>3</td>\n",
       "    </tr>\n",
       "    <tr>\n",
       "      <th>4</th>\n",
       "      <td>1无线通信系统性能测试与分析，包括常见标准无线通信系统与私有协议标准系统;2射频系统性能预算...</td>\n",
       "      <td>4</td>\n",
       "    </tr>\n",
       "    <tr>\n",
       "      <th>6</th>\n",
       "      <td>如果你是天生的冠军，那么这个职位正是为你而设。不论起点高与低，只要目标一致，你就是NO1。校...</td>\n",
       "      <td>5</td>\n",
       "    </tr>\n",
       "    <tr>\n",
       "      <th>...</th>\n",
       "      <td>...</td>\n",
       "      <td>...</td>\n",
       "    </tr>\n",
       "    <tr>\n",
       "      <th>9335</th>\n",
       "      <td>1.连锁餐饮消费领域从业经验优先。组织制定完善财务方面的管理制度及有关规定，并监督执行根据公...</td>\n",
       "      <td>6167</td>\n",
       "    </tr>\n",
       "    <tr>\n",
       "      <th>9337</th>\n",
       "      <td>【】1负责公司软件产品的架构设计代码编写和规范制订的工作；2负责软件研发过程中的规范制订和文...</td>\n",
       "      <td>6168</td>\n",
       "    </tr>\n",
       "    <tr>\n",
       "      <th>9338</th>\n",
       "      <td>1熟悉TCPIPHTTP等协议，对网络编程有较多认识并有相关性能优化经验；2有PHP语言为主...</td>\n",
       "      <td>6169</td>\n",
       "    </tr>\n",
       "    <tr>\n",
       "      <th>9340</th>\n",
       "      <td>1负责面向公众用户市场的wifi应用产品的需求调研规划设计和全生命周期管理，包括移动客户端门...</td>\n",
       "      <td>6170</td>\n",
       "    </tr>\n",
       "    <tr>\n",
       "      <th>9342</th>\n",
       "      <td>1负责公司广告产品线的产品规划竞品分析及设计工作；2负责与销售市场运营进行有效信息沟通和协调...</td>\n",
       "      <td>6171</td>\n",
       "    </tr>\n",
       "  </tbody>\n",
       "</table>\n",
       "<p>6171 rows × 2 columns</p>\n",
       "</div>"
      ],
      "text/plain": [
       "                                        Job_Description  PositionId\n",
       "0     1基于Android平台进行手机软件的设计开发需求分析等；任职要求1熟练掌握java技术，熟...           1\n",
       "1     岗位描述1前端框架的设计与实现2.各业务模块前端代码开发3.平台易用性与用户体验的持续改进4...           2\n",
       "2     1负责日常款项支付，境内外网银转帐汇款，处理日常往来账核对；2负责公司及分公司费用报销的核查...           3\n",
       "4     1无线通信系统性能测试与分析，包括常见标准无线通信系统与私有协议标准系统;2射频系统性能预算...           4\n",
       "6     如果你是天生的冠军，那么这个职位正是为你而设。不论起点高与低，只要目标一致，你就是NO1。校...           5\n",
       "...                                                 ...         ...\n",
       "9335  1.连锁餐饮消费领域从业经验优先。组织制定完善财务方面的管理制度及有关规定，并监督执行根据公...        6167\n",
       "9337  【】1负责公司软件产品的架构设计代码编写和规范制订的工作；2负责软件研发过程中的规范制订和文...        6168\n",
       "9338  1熟悉TCPIPHTTP等协议，对网络编程有较多认识并有相关性能优化经验；2有PHP语言为主...        6169\n",
       "9340  1负责面向公众用户市场的wifi应用产品的需求调研规划设计和全生命周期管理，包括移动客户端门...        6170\n",
       "9342  1负责公司广告产品线的产品规划竞品分析及设计工作；2负责与销售市场运营进行有效信息沟通和协调...        6171\n",
       "\n",
       "[6171 rows x 2 columns]"
      ]
     },
     "metadata": {},
     "output_type": "display_data"
    }
   ],
   "source": [
    "import re\n",
    "def Delete_CertainSign(x):\n",
    "    try:\n",
    "        mode = re.compile(r\"\\+|\\/|\\-|\\*|\\s|\\、|岗位职责|职位描述|：| | ，\")\n",
    "        return re.sub(mode,\"\",x)\n",
    "    except Exception:\n",
    "        return \"\"\n",
    "df1[\"Job_Description\"] = df1[\"Job_Description\"].astype(str).apply(Delete_CertainSign)\n",
    "display(df1)"
   ]
  },
  {
   "cell_type": "code",
   "execution_count": 8,
   "metadata": {},
   "outputs": [
    {
     "name": "stderr",
     "output_type": "stream",
     "text": [
      "<ipython-input-8-71af83561859>:7: SettingWithCopyWarning: \n",
      "A value is trying to be set on a copy of a slice from a DataFrame.\n",
      "Try using .loc[row_indexer,col_indexer] = value instead\n",
      "\n",
      "See the caveats in the documentation: https://pandas.pydata.org/pandas-docs/stable/user_guide/indexing.html#returning-a-view-versus-a-copy\n",
      "  df1[\"Job_Description\"] = df1[\"Job_Description\"].astype(str).apply(Delete_Number)\n"
     ]
    },
    {
     "data": {
      "text/html": [
       "<div>\n",
       "<style scoped>\n",
       "    .dataframe tbody tr th:only-of-type {\n",
       "        vertical-align: middle;\n",
       "    }\n",
       "\n",
       "    .dataframe tbody tr th {\n",
       "        vertical-align: top;\n",
       "    }\n",
       "\n",
       "    .dataframe thead th {\n",
       "        text-align: right;\n",
       "    }\n",
       "</style>\n",
       "<table border=\"1\" class=\"dataframe\">\n",
       "  <thead>\n",
       "    <tr style=\"text-align: right;\">\n",
       "      <th></th>\n",
       "      <th>Job_Description</th>\n",
       "      <th>PositionId</th>\n",
       "    </tr>\n",
       "  </thead>\n",
       "  <tbody>\n",
       "    <tr>\n",
       "      <th>0</th>\n",
       "      <td>基于Android平台进行手机软件的设计开发需求分析等；任职要求熟练掌握java技术，熟悉面...</td>\n",
       "      <td>1</td>\n",
       "    </tr>\n",
       "    <tr>\n",
       "      <th>1</th>\n",
       "      <td>岗位描述前端框架的设计与实现.各业务模块前端代码开发.平台易用性与用户体验的持续改进.Web...</td>\n",
       "      <td>2</td>\n",
       "    </tr>\n",
       "    <tr>\n",
       "      <th>2</th>\n",
       "      <td>负责日常款项支付，境内外网银转帐汇款，处理日常往来账核对；负责公司及分公司费用报销的核查及支...</td>\n",
       "      <td>3</td>\n",
       "    </tr>\n",
       "    <tr>\n",
       "      <th>4</th>\n",
       "      <td>无线通信系统性能测试与分析，包括常见标准无线通信系统与私有协议标准系统;射频系统性能预算与系...</td>\n",
       "      <td>4</td>\n",
       "    </tr>\n",
       "    <tr>\n",
       "      <th>6</th>\n",
       "      <td>如果你是天生的冠军，那么这个职位正是为你而设。不论起点高与低，只要目标一致，你就是NO。校园...</td>\n",
       "      <td>5</td>\n",
       "    </tr>\n",
       "    <tr>\n",
       "      <th>...</th>\n",
       "      <td>...</td>\n",
       "      <td>...</td>\n",
       "    </tr>\n",
       "    <tr>\n",
       "      <th>9335</th>\n",
       "      <td>.连锁餐饮消费领域从业经验优先。组织制定完善财务方面的管理制度及有关规定，并监督执行根据公司...</td>\n",
       "      <td>6167</td>\n",
       "    </tr>\n",
       "    <tr>\n",
       "      <th>9337</th>\n",
       "      <td>【】负责公司软件产品的架构设计代码编写和规范制订的工作；负责软件研发过程中的规范制订和文档撰...</td>\n",
       "      <td>6168</td>\n",
       "    </tr>\n",
       "    <tr>\n",
       "      <th>9338</th>\n",
       "      <td>熟悉TCPIPHTTP等协议，对网络编程有较多认识并有相关性能优化经验；有PHP语言为主的大...</td>\n",
       "      <td>6169</td>\n",
       "    </tr>\n",
       "    <tr>\n",
       "      <th>9340</th>\n",
       "      <td>负责面向公众用户市场的wifi应用产品的需求调研规划设计和全生命周期管理，包括移动客户端门户...</td>\n",
       "      <td>6170</td>\n",
       "    </tr>\n",
       "    <tr>\n",
       "      <th>9342</th>\n",
       "      <td>负责公司广告产品线的产品规划竞品分析及设计工作；负责与销售市场运营进行有效信息沟通和协调，共...</td>\n",
       "      <td>6171</td>\n",
       "    </tr>\n",
       "  </tbody>\n",
       "</table>\n",
       "<p>6171 rows × 2 columns</p>\n",
       "</div>"
      ],
      "text/plain": [
       "                                        Job_Description  PositionId\n",
       "0     基于Android平台进行手机软件的设计开发需求分析等；任职要求熟练掌握java技术，熟悉面...           1\n",
       "1     岗位描述前端框架的设计与实现.各业务模块前端代码开发.平台易用性与用户体验的持续改进.Web...           2\n",
       "2     负责日常款项支付，境内外网银转帐汇款，处理日常往来账核对；负责公司及分公司费用报销的核查及支...           3\n",
       "4     无线通信系统性能测试与分析，包括常见标准无线通信系统与私有协议标准系统;射频系统性能预算与系...           4\n",
       "6     如果你是天生的冠军，那么这个职位正是为你而设。不论起点高与低，只要目标一致，你就是NO。校园...           5\n",
       "...                                                 ...         ...\n",
       "9335  .连锁餐饮消费领域从业经验优先。组织制定完善财务方面的管理制度及有关规定，并监督执行根据公司...        6167\n",
       "9337  【】负责公司软件产品的架构设计代码编写和规范制订的工作；负责软件研发过程中的规范制订和文档撰...        6168\n",
       "9338  熟悉TCPIPHTTP等协议，对网络编程有较多认识并有相关性能优化经验；有PHP语言为主的大...        6169\n",
       "9340  负责面向公众用户市场的wifi应用产品的需求调研规划设计和全生命周期管理，包括移动客户端门户...        6170\n",
       "9342  负责公司广告产品线的产品规划竞品分析及设计工作；负责与销售市场运营进行有效信息沟通和协调，共...        6171\n",
       "\n",
       "[6171 rows x 2 columns]"
      ]
     },
     "metadata": {},
     "output_type": "display_data"
    }
   ],
   "source": [
    "def Delete_Number(x):\n",
    "    try:\n",
    "        mode = re.compile(r\"\\d+\")\n",
    "        return re.sub(mode,\"\",x)\n",
    "    except Exception:\n",
    "        return \"\"\n",
    "df1[\"Job_Description\"] = df1[\"Job_Description\"].astype(str).apply(Delete_Number)\n",
    "display(df1)"
   ]
  },
  {
   "cell_type": "code",
   "execution_count": 9,
   "metadata": {},
   "outputs": [
    {
     "name": "stdout",
     "output_type": "stream",
     "text": [
      "5418\n",
      "                                        Job_Description  PositionId\n",
      "0     基于Android平台进行手机软件的设计开发需求分析等；任职要求熟练掌握java技术，熟悉面...           1\n",
      "1     岗位描述前端框架的设计与实现.各业务模块前端代码开发.平台易用性与用户体验的持续改进.Web...           2\n",
      "2     负责日常款项支付，境内外网银转帐汇款，处理日常往来账核对；负责公司及分公司费用报销的核查及支...           3\n",
      "4     无线通信系统性能测试与分析，包括常见标准无线通信系统与私有协议标准系统;射频系统性能预算与系...           4\n",
      "6     如果你是天生的冠军，那么这个职位正是为你而设。不论起点高与低，只要目标一致，你就是NO。校园...           5\n",
      "...                                                 ...         ...\n",
      "9333  工作职责.根据市场需要，参与互联网产品发展规划产品设计；.熟悉互联网的运作模式及特征，对互联...        6166\n",
      "9335  .连锁餐饮消费领域从业经验优先。组织制定完善财务方面的管理制度及有关规定，并监督执行根据公司...        6167\n",
      "9338  熟悉TCPIPHTTP等协议，对网络编程有较多认识并有相关性能优化经验；有PHP语言为主的大...        6169\n",
      "9340  负责面向公众用户市场的wifi应用产品的需求调研规划设计和全生命周期管理，包括移动客户端门户...        6170\n",
      "9342  负责公司广告产品线的产品规划竞品分析及设计工作；负责与销售市场运营进行有效信息沟通和协调，共...        6171\n",
      "\n",
      "[5418 rows x 2 columns]\n"
     ]
    }
   ],
   "source": [
    "df2 = df1.drop_duplicates(['Job_Description'])   #根据Job_Description再去重，查看去重后的数据\n",
    "print(len(df2))\n",
    "print(df2)"
   ]
  },
  {
   "cell_type": "code",
   "execution_count": 10,
   "metadata": {},
   "outputs": [
    {
     "data": {
      "text/plain": [
       "array(['基于Android平台进行手机软件的设计开发需求分析等；任职要求熟练掌握java技术，熟悉面向对象编程设计，具备扎实的编程基础；精通Android开发平台及框架原理；对面向对象开发有深入的理解;具备熟练的技术调研能力并能完成可行性说明；两年以上Android端移动互联网开发经验；必须具有熟练的即时通讯开发和消息推送开发经验具备良好的团队合作能力和沟通能力，有较强的自我提升和学习能力优先录用条件研究阅读过Android系统的源码具有移动支付网上银行或消息推送即时通讯等相关软件开发经验熟悉NDK编程并有相关经验',\n",
       "       '岗位描述前端框架的设计与实现.各业务模块前端代码开发.平台易用性与用户体验的持续改进.Web前沿技术研究和新技术调研岗位要求.精通Web前端技术,包括HTMLCSSJavascript等.精通JS对象编程,并能熟练使用jquery进行动态网页开发.有基于Ajax或Jsonp的开发经验.对NodeJSHtml及其相关技术有一定了解；或者熟悉HTTP协议Apache模块cookie等Web技术；.技术视野广阔,乐于不断学习新知识与新技术,并能应用到实际工作中.个性乐观开朗,逻辑性强,乐于团队合作.Web前沿技术研究和新技术调研',\n",
       "       '负责日常款项支付，境内外网银转帐汇款，处理日常往来账核对；负责公司及分公司费用报销的核查及支付；负责公司资金日报周报月报填报及发送，不定时汇报资金异常情况；负责总部及所有分公司的网银管理银企对账及资金分配；负责银行的日常对接和沟通，负责各类账户问题处理，如开销户外汇结售汇等；完成领导安排的其他工作。任职要求，出纳工作经验在年左右或以上，最少年最多不超过年，，工作稳定，不频繁跳槽的，有境外银行出纳工作经验优先，大专或以上优先电脑操作熟练；熟练使用财务软件WordExcel及运用其中各类函数，数据透视表等；工作细致，责任感强，具有良好的学习能力独立工作能力和财务分析能力；具备良好的沟通能力和团队精神，客观公正，保守秘密；广州本地户口优先考虑。',\n",
       "       ...,\n",
       "       '熟悉TCPIPHTTP等协议，对网络编程有较多认识并有相关性能优化经验；有PHP语言为主的大中型项目开发经验；优秀的数据库设计和优化能力，熟悉Mysql，MongoDB，Redis等；熟练应用一门或几门以下的技术JavaShellPythonJavaScriptAjax；具备产品思维，良好的沟通能力；',\n",
       "       '负责面向公众用户市场的wifi应用产品的需求调研规划设计和全生命周期管理，包括移动客户端门户及公众类应用产品。负责面向中小商家的标准化wifiOO应用产品的需求调研规划设计和全生命周期管理，以及与公众产品的整合。招聘条件正规院校本科以上学历；两年以上无线互联网产品工作经验，有wifi类产品运营设计经验者优先，有BAT类公司工作经验或创业经历者优先；熟悉产品开发流程，熟练使用产品策划所需的软件，熟练掌握需求文档运营文档产品文案等文档的撰写输出和汇报；立志做出牛逼的产品。',\n",
       "       '负责公司广告产品线的产品规划竞品分析及设计工作；负责与销售市场运营进行有效信息沟通和协调，共同促进广告产品的开发；协调组织各个团队和各类资源达成产品目标。任职要求正规院校本科及以上学历，计算机新闻广告相关专业者优先；两年以上广告类产品工作经验；参与和管理过大型互联网产品开发与发布；具有敏锐市场触觉和产品规划经验，对媒体实现广告变现有足够经验；具备整合不同组织资源，领导跨部门合作开发产品的能力；具备数据敏感性和数据分析能力，并具有良好分析判断能力；有广告或媒体类互联网公司工作经验或创业经历者优先;有WiFi类产品运营设计经验者优先。'],\n",
       "      dtype=object)"
      ]
     },
     "execution_count": 10,
     "metadata": {},
     "output_type": "execute_result"
    }
   ],
   "source": [
    "df2['Job_Description'].unique()       #查看描述列的值"
   ]
  },
  {
   "cell_type": "markdown",
   "metadata": {},
   "source": [
    "## 三.对数据进行处理，并且可视化"
   ]
  },
  {
   "cell_type": "markdown",
   "metadata": {},
   "source": [
    "### 3.1. 编写文本去重函数"
   ]
  },
  {
   "cell_type": "code",
   "execution_count": 11,
   "metadata": {},
   "outputs": [],
   "source": [
    "\n",
    "def condense_1(str):\n",
    "\t# 这里i代表每次处理的字符单位数，如i=1时处理“好好好好”的情况，i=2时处理“很好很好很好”的情况\n",
    "\t# i=1&i=2时用一种处理方式，即当重复数量>2时才进行压缩，因为出现“滔滔不绝”、“美的的确好”\n",
    "\t# 跟“容我思考思考”“这真的真的好看”等不好归为冗余的情况。但当出现3次及以上时基本就是冗余了。\n",
    "\tfor i in [1, 2]:\n",
    "\t\tj = 0\n",
    "\t\twhile j < len(str)-2*i:\n",
    "\t\t\t#判断重复了至少两次\n",
    "\t\t\tif str[j: j+i] == str[j+i: j+2*i] and str[j: j+i] == str[j+2*i: j+3*i]:\n",
    "\t\t\t\tk = j+2*i\n",
    "\t\t\t\twhile k+i<len(str) and str[j: j+i]==str[k+i: k+2*i]:\n",
    "\t\t\t\t\tk += i\n",
    "\t\t\t\tstr = str[: j+i] + str[k+i:]\n",
    "\t\t\tj += 1\n",
    "\t\ti += 1\n",
    "\t\n",
    "\t# i=3&i=4时用一种处理方式，当重复>1时就进行压缩，因为3个字以上时重复不再构成成语或其他常用语，\n",
    "\t# 基本上即使冗余了。因为大于五个字的重复比较少出现，为了减少算法复杂度可以只处理到i=4。\n",
    "\tfor i in [3, 4, 5]:\n",
    "\t\tj = 0\n",
    "\t\twhile j < len(str)-2*i:\n",
    "\t\t\t#判断重复了至少一次\n",
    "\t\t\tif str[j: j+i]==str[j+i: j+2*i]:\n",
    "\t\t\t\tk = j+i\n",
    "\t\t\t\twhile k+i<len(str) and str[j: j+i]==str[k+i: k+2*i]:\n",
    "\t\t\t\t\tk += i\n",
    "\t\t\t\tstr = str[: j+i] + str[k+i:]\n",
    "\t\t\tj += 1\n",
    "\t\ti += 1\n",
    "\t\n",
    "\treturn str"
   ]
  },
  {
   "cell_type": "markdown",
   "metadata": {},
   "source": [
    "### 3.2. 总评论文本去重以及长度统计"
   ]
  },
  {
   "cell_type": "code",
   "execution_count": 12,
   "metadata": {},
   "outputs": [
    {
     "name": "stdout",
     "output_type": "stream",
     "text": [
      "5418\n",
      "统计总评论的字符长度 1789788\n",
      "5418 <class 'pandas.core.series.Series'>\n",
      "文本去重后的长度汇总 1787519\n",
      "123123123123 0     256\n",
      "1     264\n",
      "2     323\n",
      "4     338\n",
      "6    1036\n",
      "Name: Job_Description, dtype: int64 5418 <class 'pandas.core.series.Series'>\n",
      "                                                  评论    长度\n",
      "0  基于Android平台进行手机软件的设计开发需求分析等；任职要求熟练掌握java技术，熟悉面...   256\n",
      "1  岗位描述前端框架的设计与实现.各业务模块前端代码开发.平台易用性与用户体验的持续改进.Web...   264\n",
      "2  负责日常款项支付，境内外网银转帐汇款，处理日常往来账核对；负责公司及分公司费用报销的核查及支...   323\n",
      "4  无线通信系统性能测试与分析，包括常见标准无线通信系统与私有协议标准系统;射频系统性能预算与系...   338\n",
      "6  如果你是天生的冠军，那么这个职位正是为你而设。不论起点高与低，只要目标一致，你就是NO。校园...  1036\n",
      "5418\n"
     ]
    }
   ],
   "source": [
    "\n",
    "reviews=df2['Job_Description']\n",
    "print(len(reviews))\n",
    "\n",
    "len_comm_all=reviews.astype('str').apply(lambda x: len(x)).sum()  # 统计总评论的字符长度\n",
    "print('统计总评论的字符长度',len_comm_all)\n",
    "\n",
    "comment_allForC = reviews.astype('str').apply(lambda x: condense_1(x))  # 去除重复词\n",
    "print(len(comment_allForC),type(comment_allForC))\n",
    "\n",
    "len_comm_all_C=comment_allForC.apply(lambda x: len(x)).sum()# 文本去重复词后的长度汇总\n",
    "print('文本去重后的长度汇总',len_comm_all_C)\n",
    "\n",
    "#data1.iloc[14]  # 转换后效果\n",
    "comment_allForC_ForL = comment_allForC.apply(lambda x: len(x))# 文本去重后的文本长度矩阵\n",
    "print('123123123123',comment_allForC_ForL.head(),len(comment_allForC_ForL),type(comment_allForC_ForL))\n",
    "\n",
    "comment_all_dataAndLen=pd.concat([comment_allForC,comment_allForC_ForL],axis=1)# 合并\n",
    "comment_all_dataAndLen.columns = ['评论','长度']\n",
    "print(comment_all_dataAndLen.head())\n",
    "print(len(comment_all_dataAndLen))\n",
    "\n",
    "\n"
   ]
  },
  {
   "cell_type": "markdown",
   "metadata": {},
   "source": [
    "### 3.3 进行可视化"
   ]
  },
  {
   "cell_type": "code",
   "execution_count": 13,
   "metadata": {},
   "outputs": [
    {
     "data": {
      "image/png": "[encoded data removed]",
      "text/plain": [
       "<Figure size 432x288 with 1 Axes>"
      ]
     },
     "metadata": {
      "needs_background": "light"
     },
     "output_type": "display_data"
    }
   ],
   "source": [
    "\n",
    "import matplotlib as mp\n",
    "import matplotlib.pyplot as plt\n",
    "#mp.use('qt5agg')\n",
    "mp.rcParams['font.sans-serif']='SimHei'\n",
    "mp.rcParams['font.family']='sans-serif'\n",
    "plt.hist(comment_allForC_ForL,50,facecolor='g')\n",
    "plt.xlabel('评论长度')\n",
    "plt.ylabel('频次')\n",
    "plt.axis([0,1500,0,70000])\n",
    "plt.show()"
   ]
  },
  {
   "cell_type": "code",
   "execution_count": 14,
   "metadata": {},
   "outputs": [
    {
     "name": "stdout",
     "output_type": "stream",
     "text": [
      "(5373,)\n",
      "(5373,)\n"
     ]
    }
   ],
   "source": [
    "# 截取长度大于50的作为有效描述\n",
    "comment_all_dataAndLen['长度'].value_counts().sort_index()[:10]  # 长度前十的数量统计\n",
    "comment_all_dataOver50 = comment_all_dataAndLen.loc[comment_all_dataAndLen['长度'] > 50, '评论']  # 筛选长度大于50的评论\n",
    "print(comment_all_dataOver50.shape)\n",
    "# print(comment_all_dataAndLen)\n",
    "# 截取长度大于50的作为有效描述\n",
    "comment_all_dataAndLen['长度'].value_counts().sort_index()[:10]  # 长度前十的数量统计\n",
    "comment_all_dataOver50 = comment_all_dataAndLen.loc[comment_all_dataAndLen['长度'] > 50, '评论']  # 筛选长度大于50的评论\n",
    "print(comment_all_dataOver50.shape)\n",
    "# print(comment_all_dataAndLen['长度'])\n",
    "# print(comment_all_dataAndLen['长度'].value_counts())"
   ]
  },
  {
   "cell_type": "code",
   "execution_count": null,
   "metadata": {},
   "outputs": [],
   "source": []
  },
  {
   "cell_type": "markdown",
   "metadata": {},
   "source": [
    "## 对工作描述进行分词和词性标注"
   ]
  },
  {
   "cell_type": "code",
   "execution_count": 15,
   "metadata": {},
   "outputs": [
    {
     "name": "stderr",
     "output_type": "stream",
     "text": [
      "Building prefix dict from the default dictionary ...\n",
      "Loading model from cache C:\\Users\\20713\\AppData\\Local\\Temp\\jieba.cache\n",
      "Loading model cost 0.559 seconds.\n",
      "Prefix dict has been built successfully.\n"
     ]
    },
    {
     "name": "stdout",
     "output_type": "stream",
     "text": [
      "0    [基于/p, Android/eng, 平台/n, 进行/v, 手机软件/n, 的/uj, ...\n",
      "1    [岗位/n, 描述/v, 前端/f, 框架/n, 的/uj, 设计/vn, 与/p, 实现/...\n",
      "2    [负责/v, 日常/d, 款项/n, 支付/v, ，/x, 境内外/s, 网银/nt, 转帐...\n",
      "4    [无线通信/l, 系统/n, 性能/n, 测试/vn, 与/p, 分析/vn, ，/x, 包...\n",
      "6    [如果/c, 你/r, 是/v, 天生/n, 的/uj, 冠军/n, ，/x, 那么/r, ...\n",
      "Name: 评论, dtype: object\n"
     ]
    }
   ],
   "source": [
    "import jieba\n",
    "import jieba.posseg as psg\n",
    "\n",
    "## 所有描述进行词性标注\n",
    "comment_words_all= comment_all_dataOver50.apply(lambda x: list(psg.cut(x)))  \n",
    "print(comment_words_all.head())\n"
   ]
  },
  {
   "cell_type": "code",
   "execution_count": 16,
   "metadata": {},
   "outputs": [
    {
     "name": "stdout",
     "output_type": "stream",
     "text": [
      "0    [基于, Android, 平台, 进行, 手机软件, 的, 设计, 开发, 需求, 分析,...\n",
      "1    [岗位, 描述, 前端, 框架, 的, 设计, 与, 实现, ., 各, 业务, 模块, 前...\n",
      "2    [负责, 日常, 款项, 支付, ，, 境内外, 网银, 转帐, 汇款, ，, 处理, 日常...\n",
      "4    [无线通信, 系统, 性能, 测试, 与, 分析, ，, 包括, 常见, 标准, 无线通信,...\n",
      "6    [如果, 你, 是, 天生, 的, 冠军, ，, 那么, 这个, 职位, 正是, 为, 你,...\n",
      "Name: 评论, dtype: object\n"
     ]
    }
   ],
   "source": [
    "#分词\n",
    "comment_words_all = comment_all_dataOver50.apply(lambda x: list(jieba.cut(x)))  \n",
    "print(comment_words_all.head())"
   ]
  },
  {
   "cell_type": "code",
   "execution_count": null,
   "metadata": {},
   "outputs": [],
   "source": []
  },
  {
   "cell_type": "code",
   "execution_count": null,
   "metadata": {},
   "outputs": [],
   "source": []
  },
  {
   "cell_type": "code",
   "execution_count": 18,
   "metadata": {},
   "outputs": [],
   "source": [
    "# 进行关键字提取"
   ]
  },
  {
   "cell_type": "code",
   "execution_count": 24,
   "metadata": {},
   "outputs": [],
   "source": [
    "import math\n",
    "import jieba\n",
    "import jieba.posseg as psg\n",
    "from gensim import corpora, models\n",
    "from jieba import analyse\n",
    "import functools\n",
    "\n",
    "\n",
    "# 停用词表加载方法\n",
    "def get_stopword_list():\n",
    "    # 停用词表存储路径，每一行为一个词，按行读取进行加载\n",
    "    # 进行编码转换确保匹配准确率\n",
    "    stop_word_path = 'stopword.txt'\n",
    "    stopword_list = [sw.replace('\\n', '') for sw in open(stop_word_path,encoding='utf-8').readlines()]\n",
    "#     print(\"============停用词表==========\",stopword_list)\n",
    "    return stopword_list\n",
    "\n",
    "\n",
    "# 分词方法，调用结巴接口\n",
    "def seg_to_list(sentence, pos=False):\n",
    "    if not pos:\n",
    "        # 不进行词性标注的分词方法\n",
    "        seg_list = jieba.cut(sentence)\n",
    "    else:\n",
    "        # 进行词性标注的分词方法\n",
    "        seg_list = psg.cut(sentence)\n",
    "#     print(seg_list)\n",
    "    return seg_list\n",
    "\n",
    "\n",
    "# 去除干扰词\n",
    "def word_filter(seg_list, pos=False):\n",
    "    stopword_list = get_stopword_list()\n",
    "    filter_list = []\n",
    "    # 根据POS参数选择是否词性过滤\n",
    "    ## 不进行词性过滤，则将词性都标记为n，表示全部保留\n",
    "    for seg in seg_list:\n",
    "        if not pos:\n",
    "            word = seg\n",
    "            flag = 'n'\n",
    "        else:\n",
    "            word = seg.word\n",
    "            flag = seg.flag\n",
    "        if not flag.startswith('n'):\n",
    "            continue\n",
    "        # 过滤停用词表中的词，以及长度为<2的词\n",
    "        if not word in stopword_list and len(word) > 1:\n",
    "            filter_list.append(word)\n",
    "#     print(\"去除干扰词\",filter_list)\n",
    "    return filter_list\n",
    "\n",
    "\n",
    "# 数据加载，pos为是否词性标注的参数，corpus_path为数据集路径\n",
    "def load_data(pos=False, corpus_path='./corpus.txt'):\n",
    "    # 调用上面方式对数据集进行处理，处理后的每条数据仅保留非干扰词\n",
    "    doc_list = []\n",
    "    for line in open(corpus_path, 'r',encoding='utf-8'):\n",
    "        content = line.strip()\n",
    "        seg_list = seg_to_list(content, pos)#调用分词方法进行分词，返回结果根据pos不同返回不同的分词结果\n",
    "        filter_list = word_filter(seg_list, pos)#调用去除干扰词函数\n",
    "        doc_list.append(filter_list)\n",
    "#     print(\"数据加载\",doc_list)\n",
    "    return doc_list     # 返回去除干扰词之后的数据词集\n",
    "\n",
    "\n",
    "# idf值统计方法\n",
    "def train_idf(doc_list):\n",
    "    idf_dic = {}\n",
    "    # 总文档数\n",
    "    tt_count = len(doc_list)\n",
    "    # 每个词出现的文档数\n",
    "    for doc in doc_list:\n",
    "#         print(\"doc_\",doc)\n",
    "        for word in set(doc):      #set（doc)文档中词的唯一\n",
    "#             print(\"========================word\",word)   \n",
    "            idf_dic[word] = idf_dic.get(word, 0.0) + 1.0  #统计词在文档中出现的文档个数\n",
    "\n",
    "    # 按公式转换为idf值，分母加1进行平滑处理\n",
    "    for k, v in idf_dic.items():\n",
    "        idf_dic[k] = math.log(tt_count / (1.0 + v))\n",
    "    # 对于没有在字典中的词，默认其仅在一个文档出现，得到默认idf值\n",
    "    default_idf = math.log(tt_count / 1)\n",
    "#     print(\"default_idf\",default_idf)\n",
    "#     print(\"idf_dic\",idf_dic)\n",
    "    return idf_dic, default_idf\n",
    "\n",
    "#============================================================================================\n",
    "#  排序函数，用于topK关键词的按值排序\n",
    "def cmp(e1, e2):\n",
    "    import numpy as np\n",
    "    res = np.sign(e1[1] - e2[1])\n",
    "    if res != 0:\n",
    "        return res\n",
    "    else:\n",
    "        a = e1[0] + e2[0]\n",
    "        b = e2[0] + e1[0]\n",
    "        if a > b:\n",
    "            return 1\n",
    "        elif a == b:\n",
    "            return 0\n",
    "        else:\n",
    "            return -1\n",
    "\n",
    "# TF-IDF类\n",
    "class TfIdf(object):\n",
    "    # 四个参数分别是：训练好的idf字典，默认idf值，处理后的待提取文本，关键词数量\n",
    "    def __init__(self, idf_dic, default_idf, word_list, keyword_num):\n",
    "        self.word_list = word_list\n",
    "        self.idf_dic, self.default_idf = idf_dic, default_idf\n",
    "        self.tf_dic = self.get_tf_dic()\n",
    "        self.keyword_num = keyword_num\n",
    "    # 统计tf值\n",
    "    def get_tf_dic(self):\n",
    "        tf_dic = {}     #保存word的tf值，k：word  ，v：tf值\n",
    "        #每个词出现的文档数\n",
    "        for word in self.word_list:     \n",
    "            tf_dic[word] = tf_dic.get(word, 0.0) + 1.0     #统计word在词表中出现的次数】\n",
    "        #按公式转换为idf值，分母加1 进行计算\n",
    "        tt_count = len(self.word_list) #词总数\n",
    "        for k, v in tf_dic.items():    #计算每个word的tf值\n",
    "            tf_dic[k] = float(v) / tt_count\n",
    "        return tf_dic\n",
    "\n",
    "    # 按公式计算tf-idf\n",
    "    def get_tfidf(self):\n",
    "        tfidf_dic = {}  #保存word的tf-idf值，k：word  ，v：tf-idf值\n",
    "        for word in self.word_list: #迭代词\n",
    "            idf = self.idf_dic.get(word, self.default_idf)\n",
    "            tf = self.tf_dic.get(word, 0)\n",
    "            tfidf = tf * idf\n",
    "            tfidf_dic[word] = tfidf\n",
    "        tfidf_dic.items()\n",
    "        # 根据tf-idf排序，去排名前keyword_num的词作为关键词\n",
    "        for k, v in sorted(tfidf_dic.items(), key=functools.cmp_to_key(cmp), reverse=True)[:self.keyword_num]:\n",
    "            print(k + \"/ \", end='')\n",
    "        print()\n",
    "\n",
    "#===================================================================================================\n",
    "# 主题模型\n",
    "class TopicModel(object):\n",
    "    # 三个传入参数：处理后的数据集，关键词数量，具体模型（LSI、LDA），主题数量\n",
    "    def __init__(self, doc_list, keyword_num, model='LSI', num_topics=4):\n",
    "        # 使用gensim的接口，将文本转为向量化表示\n",
    "        # 先构建词空间\n",
    "        self.dictionary = corpora.Dictionary(doc_list)\n",
    "        # 使用BOW模型向量化\n",
    "        corpus = [self.dictionary.doc2bow(doc) for doc in doc_list]\n",
    "        # 对每个词，根据tf-idf进行加权，得到加权后的向量表示\n",
    "        self.tfidf_model = models.TfidfModel(corpus)\n",
    "        self.corpus_tfidf = self.tfidf_model[corpus]\n",
    "\n",
    "        self.keyword_num = keyword_num\n",
    "        self.num_topics = num_topics\n",
    "        # 选择加载的模型\n",
    "        if model == 'LSI':\n",
    "            self.model = self.train_lsi()\n",
    "        else:\n",
    "            self.model = self.train_lda()\n",
    "\n",
    "        # 得到数据集的主题-词分布\n",
    "        word_dic = self.word_dictionary(doc_list)\n",
    "        self.wordtopic_dic = self.get_wordtopic(word_dic)\n",
    "\n",
    "    def train_lsi(self):\n",
    "        lsi = models.LsiModel(self.corpus_tfidf, id2word=self.dictionary, num_topics=self.num_topics)\n",
    "        return lsi\n",
    "\n",
    "    def train_lda(self):\n",
    "        lda = models.LdaModel(self.corpus_tfidf, id2word=self.dictionary, num_topics=self.num_topics)\n",
    "        return lda\n",
    "\n",
    "    def get_wordtopic(self, word_dic):\n",
    "        wordtopic_dic = {}\n",
    "\n",
    "        for word in word_dic:\n",
    "            single_list = [word]\n",
    "            wordcorpus = self.tfidf_model[self.dictionary.doc2bow(single_list)]\n",
    "            wordtopic = self.model[wordcorpus]\n",
    "            wordtopic_dic[word] = wordtopic\n",
    "        return wordtopic_dic\n",
    "\n",
    "    # 计算词的分布和文档的分布的相似度，取相似度最高的keyword_num个词作为关键词\n",
    "    def get_simword(self, word_list):\n",
    "        sentcorpus = self.tfidf_model[self.dictionary.doc2bow(word_list)]\n",
    "        senttopic = self.model[sentcorpus]\n",
    "\n",
    "        # 余弦相似度计算\n",
    "        def calsim(l1, l2):\n",
    "            a, b, c = 0.0, 0.0, 0.0\n",
    "            for t1, t2 in zip(l1, l2):\n",
    "                x1 = t1[1]\n",
    "                x2 = t2[1]\n",
    "                a += x1 * x2\n",
    "                b += x1 * x1\n",
    "                c += x2 * x2\n",
    "            sim = a / math.sqrt(b * c) if not (b * c) == 0.0 else 0.0\n",
    "            return sim\n",
    "\n",
    "        # 计算输入文本和每个词的主题分布相似度\n",
    "        sim_dic = {}\n",
    "        for k, v in self.wordtopic_dic.items():\n",
    "            if k not in word_list:\n",
    "                continue\n",
    "            sim = calsim(v, senttopic)\n",
    "            sim_dic[k] = sim\n",
    "\n",
    "        for k, v in sorted(sim_dic.items(), key=functools.cmp_to_key(cmp), reverse=True)[:self.keyword_num]:\n",
    "            print(k + \"/ \", end='')\n",
    "        print()\n",
    "\n",
    "    # 词空间构建方法和向量化方法，在没有gensim接口时的一般处理方法\n",
    "    def word_dictionary(self, doc_list):\n",
    "        dictionary = []\n",
    "        for doc in doc_list:\n",
    "            dictionary.extend(doc)\n",
    "\n",
    "        dictionary = list(set(dictionary))\n",
    "\n",
    "        return dictionary\n",
    "\n",
    "    def doc2bowvec(self, word_list):\n",
    "        vec_list = [1 if word in word_list else 0 for word in self.dictionary]\n",
    "        return vec_list\n",
    "\n",
    "\n",
    "def tfidf_extract(word_list, pos=False, keyword_num=10):\n",
    "    doc_list = load_data(pos)\n",
    "    idf_dic, default_idf = train_idf(doc_list)\n",
    "    tfidf_model = TfIdf(idf_dic, default_idf, word_list, keyword_num)\n",
    "    tfidf_model.get_tfidf()\n",
    "\n",
    "\n",
    "def textrank_extract(text, pos=False, keyword_num=10):\n",
    "    textrank = analyse.textrank\n",
    "    keywords = textrank(text, keyword_num)\n",
    "    # 输出抽取出的关键词\n",
    "    for keyword in keywords:\n",
    "        print(keyword + \"/ \", end='')\n",
    "    print()\n",
    "\n",
    "\n",
    "def topic_extract(word_list, model, pos=False, keyword_num=10):\n",
    "    doc_list = load_data(pos)\n",
    "    topic_model = TopicModel(doc_list, keyword_num, model=model)\n",
    "    topic_model.get_simword(word_list)\n"
   ]
  },
  {
   "cell_type": "code",
   "execution_count": 25,
   "metadata": {},
   "outputs": [
    {
     "name": "stdout",
     "output_type": "stream",
     "text": [
      "0       基于Android平台进行手机软件的设计开发需求分析等；任职要求熟练掌握java技术，熟悉面...\n",
      "1       岗位描述前端框架的设计与实现.各业务模块前端代码开发.平台易用性与用户体验的持续改进.Web...\n",
      "2       负责日常款项支付，境内外网银转帐汇款，处理日常往来账核对；负责公司及分公司费用报销的核查及支...\n",
      "4       无线通信系统性能测试与分析，包括常见标准无线通信系统与私有协议标准系统;射频系统性能预算与系...\n",
      "6       如果你是天生的冠军，那么这个职位正是为你而设。不论起点高与低，只要目标一致，你就是NO。校园...\n",
      "                              ...                        \n",
      "9333    工作职责.根据市场需要，参与互联网产品发展规划产品设计；.熟悉互联网的运作模式及特征，对互联...\n",
      "9335    .连锁餐饮消费领域从业经验优先。组织制定完善财务方面的管理制度及有关规定，并监督执行根据公司...\n",
      "9338    熟悉TCPIPHTTP等协议，对网络编程有较多认识并有相关性能优化经验；有PHP语言为主的大...\n",
      "9340    负责面向公众用户市场的wifi应用产品的需求调研规划设计和全生命周期管理，包括移动客户端门户...\n",
      "9342    负责公司广告产品线的产品规划竞品分析及设计工作；负责与销售市场运营进行有效信息沟通和协调，共...\n",
      "Name: 评论, Length: 5373, dtype: object\n"
     ]
    }
   ],
   "source": [
    "print(comment_all_dataOver50)    #请问如何把9342条数据变成[基于, Android, 平台, 进行, 手机软件, 的, 设计, 开发, 需求, 分析]"
   ]
  },
  {
   "cell_type": "code",
   "execution_count": 26,
   "metadata": {},
   "outputs": [
    {
     "name": "stdout",
     "output_type": "stream",
     "text": [
      "<generator object cut at 0x0000025DCE0BBC10>\n",
      "['平台', '手机软件', '技术', '岗位', '框架', '业务', '模块', '代码', '平台', '易用性', '用户', '体验', '款项', '网银', '汇款', '公司', '分公司', '费用', '系统', '性能', '标准', '系统', '协议', '标准', '系统', '射频', '系统', '性能', '天生', '冠军', '职位', '起点', '目标', '校园', '职责', '市场', '互联网', '产品', '规划', '产品设计', '互联网', '模式', '特征', '餐饮', '领域', '经验', '财务', '管理制度', '公司', '协议', '网络', '编程', '性能', '经验', '语言', '面向', '公众', '用户', '市场', '产品', '规划设计', '生命周期', '客户端', '门户', '公司', '广告', '产品线', '产品', '规划', '竞品', '销售市场', '信息沟通', '评论']\n"
     ]
    },
    {
     "data": {
      "text/plain": [
       "458"
      ]
     },
     "execution_count": 26,
     "metadata": {},
     "output_type": "execute_result"
    }
   ],
   "source": [
    "# seg_list=[]\n",
    "\n",
    "seg_list = seg_to_list(str(comment_all_dataOver50), pos=True)\n",
    "print(seg_list)\n",
    "# for i in seg_list:\n",
    "#     print(i)\n",
    "filter_list_all = word_filter(seg_list, pos=True)\n",
    "print(filter_list_all)\n",
    "#filter_list_all = word_filter(str(comment_words_all), pos=True)# 过滤停用词得到所有评论数据作为语料库数据\n",
    "#4.1 构造语料库 comm_corpus.txt\n",
    "file_name='corpus.txt'\n",
    "f=open(file_name,'w',encoding='utf-8')\n",
    "f.write(str(filter_list_all))   #只把第一行的数据写进去了"
   ]
  },
  {
   "cell_type": "code",
   "execution_count": 27,
   "metadata": {},
   "outputs": [
    {
     "name": "stdout",
     "output_type": "stream",
     "text": [
      "<generator object cut at 0x0000025DCE0BBC10>\n"
     ]
    }
   ],
   "source": [
    "print(seg_list)"
   ]
  },
  {
   "cell_type": "code",
   "execution_count": 28,
   "metadata": {},
   "outputs": [
    {
     "name": "stdout",
     "output_type": "stream",
     "text": [
      "TF-IDF模型结果：\n",
      "餐饮/ 领域/ 面向/ 门户/ 销售市场/ 起点/ 费用/ 财务/ 语言/ 评论/ \n",
      "TextRank模型结果：\n",
      "负责/ 系统/ 产品/ 设计/ 分析/ 公司/ 经验/ 规划/ 性能/ 市场/ \n",
      "LSI模型结果：\n",
      "餐饮/ 领域/ 面向/ 门户/ 销售市场/ 起点/ 费用/ 财务/ 语言/ 评论/ \n",
      "LDA模型结果：\n",
      "餐饮/ 领域/ 面向/ 门户/ 销售市场/ 起点/ 费用/ 财务/ 语言/ 评论/ \n"
     ]
    },
    {
     "name": "stderr",
     "output_type": "stream",
     "text": [
      "C:\\Users\\20713\\AppData\\Roaming\\Python\\Python38\\site-packages\\gensim\\models\\lsimodel.py:101: RuntimeWarning: invalid value encountered in true_divide\n",
      "  rel_spectrum = np.abs(1.0 - np.cumsum(s / np.sum(s)))\n",
      "C:\\Users\\20713\\AppData\\Roaming\\Python\\Python38\\site-packages\\gensim\\models\\ldamodel.py:846: RuntimeWarning: divide by zero encountered in double_scalars\n",
      "  perwordbound = self.bound(chunk, subsample_ratio=subsample_ratio) / (subsample_ratio * corpus_words)\n"
     ]
    }
   ],
   "source": [
    "# 对数据进行关键字提取处理\n",
    "\n",
    "seg_list = seg_to_list(str(comment_all_dataOver50), pos=True)\n",
    "filter_list = word_filter(seg_list , pos=True)\n",
    "\n",
    "pos = True\n",
    "print('TF-IDF模型结果：')\n",
    "tfidf_extract(filter_list)\n",
    "print('TextRank模型结果：')\n",
    "textrank_extract(str(comment_all_dataOver50))\n",
    "print('LSI模型结果：')\n",
    "topic_extract(filter_list, 'LSI', pos)\n",
    "print('LDA模型结果：')\n",
    "topic_extract(filter_list, 'LDA', pos)"
   ]
  },
  {
   "cell_type": "code",
   "execution_count": null,
   "metadata": {},
   "outputs": [],
   "source": []
  },
  {
   "cell_type": "markdown",
   "metadata": {},
   "source": [
    "## 5. 导入情感词表"
   ]
  },
  {
   "cell_type": "code",
   "execution_count": 32,
   "metadata": {},
   "outputs": [
    {
     "name": "stderr",
     "output_type": "stream",
     "text": [
      "<ipython-input-32-bccebbeb52d1>:2: ParserWarning: Falling back to the 'python' engine because the 'c' engine does not support regex separators (separators > 1 char and different from '\\s+' are interpreted as regex); you can avoid this warning by specifying engine='python'.\n",
      "  stop = pd.read_csv('stopword.txt', sep='yang', encoding = 'utf-8', header = None)\n"
     ]
    },
    {
     "name": "stdout",
     "output_type": "stream",
     "text": [
      "5373\n",
      "去除停止词前： 928114\n",
      "去除停止词后： 549956\n",
      "0       [Android, 平台, 手机软件, 设计, 开发, 需求, 分析, 任职, 熟练掌握, ...\n",
      "1       [岗位, 描述, 前端, 框架, 设计, 业务, 模块, 前端, 代码, 开发, 平台, 易...\n",
      "2       [负责, 日常, 款项, 支付, 境内外, 网银, 转帐, 汇款, 日常, 往来账, 核对,...\n",
      "4       [无线通信, 系统, 性能, 测试, 分析, 包括, 常见, 标准, 无线通信, 系统, 私...\n",
      "6       [天生, 冠军, 职位, 设, 起点, 高, 低, 目标, NO, 校园生活, 社会, 经验...\n",
      "                              ...                        \n",
      "9333    [工作, 职责, 市场, 参与, 互联网, 产品, 发展, 规划, 产品设计, 熟悉, 互联...\n",
      "9335    [连锁, 餐饮, 消费, 领域, 从业, 经验, 优先, 组织, 制定, 完善, 财务, 管...\n",
      "9338    [熟悉, TCPIPHTTP, 协议, 网络, 编程, 相关, 性能, 优化, 经验, PH...\n",
      "9340    [负责, 面向, 公众, 用户, 市场, wifi, 产品, 需求, 调研, 规划设计, 全...\n",
      "9342    [负责, 公司, 广告, 产品线, 产品, 规划, 竞品, 分析, 设计, 工作, 负责, ...\n",
      "Name: 评论, Length: 5373, dtype: object\n"
     ]
    }
   ],
   "source": [
    "## 加载停止词\n",
    "stop = pd.read_csv('stopword.txt', sep='yang', encoding = 'utf-8', header = None)\n",
    "# sep设置为文档内不包含的内容，否则出错\n",
    "stop = [' ', ''] + list(stop[0]) \t#Pandas自动过滤了空格符，这里手动添加\n",
    "print(len(comment_words_all))\n",
    "\n",
    "comment_words_ForS= comment_words_all.apply(lambda x: [i for i in x if i not in stop])\n",
    "\n",
    "# 去除停止词前后对比\n",
    "print(\"去除停止词前：\",comment_words_all.apply(lambda x: len(x)).sum())\n",
    "\n",
    "print(\"去除停止词后：\",comment_words_ForS.apply(lambda x: len(x)).sum())\n",
    "print(comment_words_ForS)"
   ]
  },
  {
   "cell_type": "code",
   "execution_count": 33,
   "metadata": {},
   "outputs": [
    {
     "data": {
      "text/html": [
       "<div>\n",
       "<style scoped>\n",
       "    .dataframe tbody tr th:only-of-type {\n",
       "        vertical-align: middle;\n",
       "    }\n",
       "\n",
       "    .dataframe tbody tr th {\n",
       "        vertical-align: top;\n",
       "    }\n",
       "\n",
       "    .dataframe thead th {\n",
       "        text-align: right;\n",
       "    }\n",
       "</style>\n",
       "<table border=\"1\" class=\"dataframe\">\n",
       "  <thead>\n",
       "    <tr style=\"text-align: right;\">\n",
       "      <th></th>\n",
       "      <th>word</th>\n",
       "      <th>score</th>\n",
       "    </tr>\n",
       "  </thead>\n",
       "  <tbody>\n",
       "    <tr>\n",
       "      <th>0</th>\n",
       "      <td>最尼玛</td>\n",
       "      <td>-6.704000</td>\n",
       "    </tr>\n",
       "    <tr>\n",
       "      <th>1</th>\n",
       "      <td>扰民</td>\n",
       "      <td>-6.497564</td>\n",
       "    </tr>\n",
       "    <tr>\n",
       "      <th>2</th>\n",
       "      <td>fuck...</td>\n",
       "      <td>-6.329634</td>\n",
       "    </tr>\n",
       "    <tr>\n",
       "      <th>3</th>\n",
       "      <td>RNM</td>\n",
       "      <td>-6.218613</td>\n",
       "    </tr>\n",
       "    <tr>\n",
       "      <th>4</th>\n",
       "      <td>wcnmlgb</td>\n",
       "      <td>-5.967100</td>\n",
       "    </tr>\n",
       "  </tbody>\n",
       "</table>\n",
       "</div>"
      ],
      "text/plain": [
       "      word     score\n",
       "0      最尼玛 -6.704000\n",
       "1       扰民 -6.497564\n",
       "2  fuck... -6.329634\n",
       "3      RNM -6.218613\n",
       "4  wcnmlgb -5.967100"
      ]
     },
     "execution_count": 33,
     "metadata": {},
     "output_type": "execute_result"
    }
   ],
   "source": [
    "feeling = pd.read_csv('./BosonNLP_sentiment_score.txt', sep = ' ', header = None)\n",
    "feeling.columns = ['word','score']\n",
    "feeling.head()"
   ]
  },
  {
   "cell_type": "markdown",
   "metadata": {},
   "source": [
    "## 6. 正面主题分析和负面主题分析"
   ]
  },
  {
   "cell_type": "code",
   "execution_count": null,
   "metadata": {},
   "outputs": [],
   "source": [
    "## 加载情感词表\n",
    "feeling = pd.read_csv('./BosonNLP_sentiment_score.txt', sep = ' ', header = None)\n",
    "feeling.columns = ['word','score']\n",
    "feeling.head()\n",
    "\n",
    "feel = list(feeling['word'])\n",
    "def classfi(list1): # 统计情感分数\n",
    "   # print(\"list1:\",list1)\n",
    "    SumScore = 0\n",
    "    for i in  list1:\n",
    "        if i in feel:\n",
    "            SumScore += feeling['score'][feel.index(i)]\n",
    "    return SumScore\n",
    "\n",
    "comment_words_ForS_score = comment_words_ForS.apply(lambda x:classfi(x))  # 对评论情感打分\n",
    "print(comment_words_ForS_score)\n",
    "\n",
    "pos = comment_words_ppForS[comment_words_ForS_score >= 0]\n",
    "neg = comment_words_ppForS[comment_words_ForS_score < 0]\n",
    "#comment_words_ppForS[comment_words_ppForS_score == 0]\n",
    "pos.to_csv('pos_delStop.txt', encoding = 'utf-8', index = False, header = False)\n",
    "neg.to_csv('neg_delStop.txt', encoding = 'utf-8', index = False, header = False)\n",
    "\n",
    "negfile = 'neg_delStop.txt'\n",
    "posfile = 'pos_delStop.txt'\n",
    "\n",
    "neg = pd.read_csv(negfile, encoding = 'utf-8', header = None) #读入数据\n",
    "pos = pd.read_csv(posfile, encoding = 'utf-8', header = None) \n",
    "\n",
    "neg[1] = neg[0].apply(lambda s: s.split(' ')) #定义一个分割函数，然后用 apply 广播\n",
    "pos[1] = pos[0].apply(lambda s: s.split(' '))\n",
    "\n",
    "## 负面主题分析\n",
    "neg_dict = corpora.Dictionary(neg[1]) #建立词典\n",
    "neg_corpus = [neg_dict.doc2bow(i) for i in neg[1]] #建立语料库\n",
    "neg_lda = models.LdaModel(neg_corpus, num_topics = 3, id2word = neg_dict) #LDA 模型训练\n",
    "print(\"\\n负面评价\")\n",
    "for i in range(3):\n",
    "\tprint(\"主题%d : \" %i)\n",
    "\tprint(neg_lda.print_topic(i) ) #输出每个主题\n",
    "\n",
    "## 正面主题分析\n",
    "pos_dict = corpora.Dictionary(pos[1])\n",
    "pos_corpus = [pos_dict.doc2bow(i) for i in pos[1]]\n",
    "pos_lda = models.LdaModel(pos_corpus, num_topics = 3, id2word = pos_dict)\n",
    "print(\"\\n正面评价\")\n",
    "for i in range(3):\n",
    "\tprint(\"主题%d : \" %i)\n",
    "\tprint(pos_lda.print_topic(i) ) #输出每个主题"
   ]
  },
  {
   "cell_type": "code",
   "execution_count": null,
   "metadata": {},
   "outputs": [],
   "source": []
  },
  {
   "cell_type": "code",
   "execution_count": null,
   "metadata": {},
   "outputs": [],
   "source": []
  },
  {
   "cell_type": "code",
   "execution_count": null,
   "metadata": {},
   "outputs": [],
   "source": []
  }
 ],
 "metadata": {
  "kernelspec": {
   "display_name": "Python 3",
   "language": "python",
   "name": "python3"
  },
  "language_info": {
   "codemirror_mode": {
    "name": "ipython",
    "version": 3
   },
   "file_extension": ".py",
   "mimetype": "text/x-python",
   "name": "python",
   "nbconvert_exporter": "python",
   "pygments_lexer": "ipython3",
   "version": "3.8.3"
  }
 },
 "nbformat": 4,
 "nbformat_minor": 4
}
